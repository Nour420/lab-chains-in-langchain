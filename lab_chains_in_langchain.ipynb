{
  "cells": [
    {
      "cell_type": "markdown",
      "id": "52824b89-532a-4e54-87e9-1410813cd39e",
      "metadata": {
        "id": "52824b89-532a-4e54-87e9-1410813cd39e"
      },
      "source": [
        "# Lab | Chains in LangChain\n",
        "\n",
        "## Outline\n",
        "\n",
        "* LLMChain\n",
        "* Sequential Chains\n",
        "  * SimpleSequentialChain\n",
        "  * SequentialChain\n",
        "* Router Chain"
      ]
    },
    {
      "cell_type": "code",
      "execution_count": 1,
      "id": "541eb2f1",
      "metadata": {
        "id": "541eb2f1"
      },
      "outputs": [],
      "source": [
        "import warnings\n",
        "warnings.filterwarnings('ignore')"
      ]
    },
    {
      "cell_type": "code",
      "source": [
        "# New Cell\n",
        "from google.colab import userdata\n",
        "OPENAI_API_KEY = userdata.get('OPENAI_API_KEY')\n",
        "HF_TOKEN = userdata.get('HF_TOKEN')"
      ],
      "metadata": {
        "id": "50-_Dl25TJPo"
      },
      "id": "50-_Dl25TJPo",
      "execution_count": 2,
      "outputs": []
    },
    {
      "cell_type": "code",
      "execution_count": 4,
      "id": "b7ed03ed-1322-49e3-b2a2-33e94fb592ef",
      "metadata": {
        "tags": [],
        "colab": {
          "base_uri": "https://localhost:8080/",
          "height": 53
        },
        "id": "b7ed03ed-1322-49e3-b2a2-33e94fb592ef",
        "outputId": "595a98b3-55ef-40a1-a635-b6dee9afee9a"
      },
      "outputs": [
        {
          "output_type": "execute_result",
          "data": {
            "text/plain": [
              "\"\\nimport os\\n\\nfrom dotenv import load_dotenv, find_dotenv\\n_ = load_dotenv(find_dotenv())\\n\\nOPENAI_API_KEY  = os.getenv('OPENAI_API_KEY')\\nHUGGINGFACEHUB_API_TOKEN = os.getenv('HUGGINGFACEHUB_API_TOKEN')\\n\""
            ],
            "application/vnd.google.colaboratory.intrinsic+json": {
              "type": "string"
            }
          },
          "metadata": {},
          "execution_count": 4
        }
      ],
      "source": [
        "'''\n",
        "import os\n",
        "\n",
        "from dotenv import load_dotenv, find_dotenv\n",
        "_ = load_dotenv(find_dotenv())\n",
        "\n",
        "OPENAI_API_KEY  = os.getenv('OPENAI_API_KEY')\n",
        "HUGGINGFACEHUB_API_TOKEN = os.getenv('HUGGINGFACEHUB_API_TOKEN')\n",
        "'''"
      ]
    },
    {
      "cell_type": "code",
      "execution_count": null,
      "id": "b84e441b",
      "metadata": {
        "tags": [],
        "id": "b84e441b"
      },
      "outputs": [],
      "source": [
        "#!pip install pandas"
      ]
    },
    {
      "cell_type": "code",
      "execution_count": 5,
      "id": "974acf8e-8f88-42de-88f8-40a82cb58e8b",
      "metadata": {
        "tags": [],
        "id": "974acf8e-8f88-42de-88f8-40a82cb58e8b"
      },
      "outputs": [],
      "source": [
        "import pandas as pd\n",
        "df = pd.read_csv('/content/Data.csv')"
      ]
    },
    {
      "cell_type": "code",
      "execution_count": 6,
      "id": "b7a09c35",
      "metadata": {
        "tags": [],
        "colab": {
          "base_uri": "https://localhost:8080/",
          "height": 206
        },
        "id": "b7a09c35",
        "outputId": "b845e578-fedf-4a68-e8ad-99963a2bd842"
      },
      "outputs": [
        {
          "output_type": "execute_result",
          "data": {
            "text/plain": [
              "                     Product  \\\n",
              "0       Queen Size Sheet Set   \n",
              "1     Waterproof Phone Pouch   \n",
              "2        Luxury Air Mattress   \n",
              "3             Pillows Insert   \n",
              "4  Milk Frother Handheld\\r\\n   \n",
              "\n",
              "                                              Review  \n",
              "0  I ordered a king size set. My only criticism w...  \n",
              "1  I loved the waterproof sac, although the openi...  \n",
              "2  This mattress had a small hole in the top of i...  \n",
              "3  This is the best throw pillow fillers on Amazo...  \n",
              "4   I loved this product. But they only seem to l...  "
            ],
            "text/html": [
              "\n",
              "  <div id=\"df-1d0d49dc-ee31-495f-b4e8-915254dfb825\" class=\"colab-df-container\">\n",
              "    <div>\n",
              "<style scoped>\n",
              "    .dataframe tbody tr th:only-of-type {\n",
              "        vertical-align: middle;\n",
              "    }\n",
              "\n",
              "    .dataframe tbody tr th {\n",
              "        vertical-align: top;\n",
              "    }\n",
              "\n",
              "    .dataframe thead th {\n",
              "        text-align: right;\n",
              "    }\n",
              "</style>\n",
              "<table border=\"1\" class=\"dataframe\">\n",
              "  <thead>\n",
              "    <tr style=\"text-align: right;\">\n",
              "      <th></th>\n",
              "      <th>Product</th>\n",
              "      <th>Review</th>\n",
              "    </tr>\n",
              "  </thead>\n",
              "  <tbody>\n",
              "    <tr>\n",
              "      <th>0</th>\n",
              "      <td>Queen Size Sheet Set</td>\n",
              "      <td>I ordered a king size set. My only criticism w...</td>\n",
              "    </tr>\n",
              "    <tr>\n",
              "      <th>1</th>\n",
              "      <td>Waterproof Phone Pouch</td>\n",
              "      <td>I loved the waterproof sac, although the openi...</td>\n",
              "    </tr>\n",
              "    <tr>\n",
              "      <th>2</th>\n",
              "      <td>Luxury Air Mattress</td>\n",
              "      <td>This mattress had a small hole in the top of i...</td>\n",
              "    </tr>\n",
              "    <tr>\n",
              "      <th>3</th>\n",
              "      <td>Pillows Insert</td>\n",
              "      <td>This is the best throw pillow fillers on Amazo...</td>\n",
              "    </tr>\n",
              "    <tr>\n",
              "      <th>4</th>\n",
              "      <td>Milk Frother Handheld\\r\\n</td>\n",
              "      <td>I loved this product. But they only seem to l...</td>\n",
              "    </tr>\n",
              "  </tbody>\n",
              "</table>\n",
              "</div>\n",
              "    <div class=\"colab-df-buttons\">\n",
              "\n",
              "  <div class=\"colab-df-container\">\n",
              "    <button class=\"colab-df-convert\" onclick=\"convertToInteractive('df-1d0d49dc-ee31-495f-b4e8-915254dfb825')\"\n",
              "            title=\"Convert this dataframe to an interactive table.\"\n",
              "            style=\"display:none;\">\n",
              "\n",
              "  <svg xmlns=\"http://www.w3.org/2000/svg\" height=\"24px\" viewBox=\"0 -960 960 960\">\n",
              "    <path d=\"M120-120v-720h720v720H120Zm60-500h600v-160H180v160Zm220 220h160v-160H400v160Zm0 220h160v-160H400v160ZM180-400h160v-160H180v160Zm440 0h160v-160H620v160ZM180-180h160v-160H180v160Zm440 0h160v-160H620v160Z\"/>\n",
              "  </svg>\n",
              "    </button>\n",
              "\n",
              "  <style>\n",
              "    .colab-df-container {\n",
              "      display:flex;\n",
              "      gap: 12px;\n",
              "    }\n",
              "\n",
              "    .colab-df-convert {\n",
              "      background-color: #E8F0FE;\n",
              "      border: none;\n",
              "      border-radius: 50%;\n",
              "      cursor: pointer;\n",
              "      display: none;\n",
              "      fill: #1967D2;\n",
              "      height: 32px;\n",
              "      padding: 0 0 0 0;\n",
              "      width: 32px;\n",
              "    }\n",
              "\n",
              "    .colab-df-convert:hover {\n",
              "      background-color: #E2EBFA;\n",
              "      box-shadow: 0px 1px 2px rgba(60, 64, 67, 0.3), 0px 1px 3px 1px rgba(60, 64, 67, 0.15);\n",
              "      fill: #174EA6;\n",
              "    }\n",
              "\n",
              "    .colab-df-buttons div {\n",
              "      margin-bottom: 4px;\n",
              "    }\n",
              "\n",
              "    [theme=dark] .colab-df-convert {\n",
              "      background-color: #3B4455;\n",
              "      fill: #D2E3FC;\n",
              "    }\n",
              "\n",
              "    [theme=dark] .colab-df-convert:hover {\n",
              "      background-color: #434B5C;\n",
              "      box-shadow: 0px 1px 3px 1px rgba(0, 0, 0, 0.15);\n",
              "      filter: drop-shadow(0px 1px 2px rgba(0, 0, 0, 0.3));\n",
              "      fill: #FFFFFF;\n",
              "    }\n",
              "  </style>\n",
              "\n",
              "    <script>\n",
              "      const buttonEl =\n",
              "        document.querySelector('#df-1d0d49dc-ee31-495f-b4e8-915254dfb825 button.colab-df-convert');\n",
              "      buttonEl.style.display =\n",
              "        google.colab.kernel.accessAllowed ? 'block' : 'none';\n",
              "\n",
              "      async function convertToInteractive(key) {\n",
              "        const element = document.querySelector('#df-1d0d49dc-ee31-495f-b4e8-915254dfb825');\n",
              "        const dataTable =\n",
              "          await google.colab.kernel.invokeFunction('convertToInteractive',\n",
              "                                                    [key], {});\n",
              "        if (!dataTable) return;\n",
              "\n",
              "        const docLinkHtml = 'Like what you see? Visit the ' +\n",
              "          '<a target=\"_blank\" href=https://colab.research.google.com/notebooks/data_table.ipynb>data table notebook</a>'\n",
              "          + ' to learn more about interactive tables.';\n",
              "        element.innerHTML = '';\n",
              "        dataTable['output_type'] = 'display_data';\n",
              "        await google.colab.output.renderOutput(dataTable, element);\n",
              "        const docLink = document.createElement('div');\n",
              "        docLink.innerHTML = docLinkHtml;\n",
              "        element.appendChild(docLink);\n",
              "      }\n",
              "    </script>\n",
              "  </div>\n",
              "\n",
              "\n",
              "<div id=\"df-2422d236-3229-4958-9e6b-7b34f3d856fb\">\n",
              "  <button class=\"colab-df-quickchart\" onclick=\"quickchart('df-2422d236-3229-4958-9e6b-7b34f3d856fb')\"\n",
              "            title=\"Suggest charts\"\n",
              "            style=\"display:none;\">\n",
              "\n",
              "<svg xmlns=\"http://www.w3.org/2000/svg\" height=\"24px\"viewBox=\"0 0 24 24\"\n",
              "     width=\"24px\">\n",
              "    <g>\n",
              "        <path d=\"M19 3H5c-1.1 0-2 .9-2 2v14c0 1.1.9 2 2 2h14c1.1 0 2-.9 2-2V5c0-1.1-.9-2-2-2zM9 17H7v-7h2v7zm4 0h-2V7h2v10zm4 0h-2v-4h2v4z\"/>\n",
              "    </g>\n",
              "</svg>\n",
              "  </button>\n",
              "\n",
              "<style>\n",
              "  .colab-df-quickchart {\n",
              "      --bg-color: #E8F0FE;\n",
              "      --fill-color: #1967D2;\n",
              "      --hover-bg-color: #E2EBFA;\n",
              "      --hover-fill-color: #174EA6;\n",
              "      --disabled-fill-color: #AAA;\n",
              "      --disabled-bg-color: #DDD;\n",
              "  }\n",
              "\n",
              "  [theme=dark] .colab-df-quickchart {\n",
              "      --bg-color: #3B4455;\n",
              "      --fill-color: #D2E3FC;\n",
              "      --hover-bg-color: #434B5C;\n",
              "      --hover-fill-color: #FFFFFF;\n",
              "      --disabled-bg-color: #3B4455;\n",
              "      --disabled-fill-color: #666;\n",
              "  }\n",
              "\n",
              "  .colab-df-quickchart {\n",
              "    background-color: var(--bg-color);\n",
              "    border: none;\n",
              "    border-radius: 50%;\n",
              "    cursor: pointer;\n",
              "    display: none;\n",
              "    fill: var(--fill-color);\n",
              "    height: 32px;\n",
              "    padding: 0;\n",
              "    width: 32px;\n",
              "  }\n",
              "\n",
              "  .colab-df-quickchart:hover {\n",
              "    background-color: var(--hover-bg-color);\n",
              "    box-shadow: 0 1px 2px rgba(60, 64, 67, 0.3), 0 1px 3px 1px rgba(60, 64, 67, 0.15);\n",
              "    fill: var(--button-hover-fill-color);\n",
              "  }\n",
              "\n",
              "  .colab-df-quickchart-complete:disabled,\n",
              "  .colab-df-quickchart-complete:disabled:hover {\n",
              "    background-color: var(--disabled-bg-color);\n",
              "    fill: var(--disabled-fill-color);\n",
              "    box-shadow: none;\n",
              "  }\n",
              "\n",
              "  .colab-df-spinner {\n",
              "    border: 2px solid var(--fill-color);\n",
              "    border-color: transparent;\n",
              "    border-bottom-color: var(--fill-color);\n",
              "    animation:\n",
              "      spin 1s steps(1) infinite;\n",
              "  }\n",
              "\n",
              "  @keyframes spin {\n",
              "    0% {\n",
              "      border-color: transparent;\n",
              "      border-bottom-color: var(--fill-color);\n",
              "      border-left-color: var(--fill-color);\n",
              "    }\n",
              "    20% {\n",
              "      border-color: transparent;\n",
              "      border-left-color: var(--fill-color);\n",
              "      border-top-color: var(--fill-color);\n",
              "    }\n",
              "    30% {\n",
              "      border-color: transparent;\n",
              "      border-left-color: var(--fill-color);\n",
              "      border-top-color: var(--fill-color);\n",
              "      border-right-color: var(--fill-color);\n",
              "    }\n",
              "    40% {\n",
              "      border-color: transparent;\n",
              "      border-right-color: var(--fill-color);\n",
              "      border-top-color: var(--fill-color);\n",
              "    }\n",
              "    60% {\n",
              "      border-color: transparent;\n",
              "      border-right-color: var(--fill-color);\n",
              "    }\n",
              "    80% {\n",
              "      border-color: transparent;\n",
              "      border-right-color: var(--fill-color);\n",
              "      border-bottom-color: var(--fill-color);\n",
              "    }\n",
              "    90% {\n",
              "      border-color: transparent;\n",
              "      border-bottom-color: var(--fill-color);\n",
              "    }\n",
              "  }\n",
              "</style>\n",
              "\n",
              "  <script>\n",
              "    async function quickchart(key) {\n",
              "      const quickchartButtonEl =\n",
              "        document.querySelector('#' + key + ' button');\n",
              "      quickchartButtonEl.disabled = true;  // To prevent multiple clicks.\n",
              "      quickchartButtonEl.classList.add('colab-df-spinner');\n",
              "      try {\n",
              "        const charts = await google.colab.kernel.invokeFunction(\n",
              "            'suggestCharts', [key], {});\n",
              "      } catch (error) {\n",
              "        console.error('Error during call to suggestCharts:', error);\n",
              "      }\n",
              "      quickchartButtonEl.classList.remove('colab-df-spinner');\n",
              "      quickchartButtonEl.classList.add('colab-df-quickchart-complete');\n",
              "    }\n",
              "    (() => {\n",
              "      let quickchartButtonEl =\n",
              "        document.querySelector('#df-2422d236-3229-4958-9e6b-7b34f3d856fb button');\n",
              "      quickchartButtonEl.style.display =\n",
              "        google.colab.kernel.accessAllowed ? 'block' : 'none';\n",
              "    })();\n",
              "  </script>\n",
              "</div>\n",
              "\n",
              "    </div>\n",
              "  </div>\n"
            ],
            "application/vnd.google.colaboratory.intrinsic+json": {
              "type": "dataframe",
              "variable_name": "df",
              "summary": "{\n  \"name\": \"df\",\n  \"rows\": 7,\n  \"fields\": [\n    {\n      \"column\": \"Product\",\n      \"properties\": {\n        \"dtype\": \"string\",\n        \"num_unique_values\": 7,\n        \"samples\": [\n          \"Queen Size Sheet Set\",\n          \"Waterproof Phone Pouch\",\n          \"L'Or Espresso Caf\\u00e9\\u00a0\\r\\n\"\n        ],\n        \"semantic_type\": \"\",\n        \"description\": \"\"\n      }\n    },\n    {\n      \"column\": \"Review\",\n      \"properties\": {\n        \"dtype\": \"string\",\n        \"num_unique_values\": 7,\n        \"samples\": [\n          \"I ordered a king size set. My only criticism would be that I wish seller would offer the king size set with 4 pillowcases. I separately ordered a two pack of pillowcases so I could have a total of four. When I saw the two packages, it looked like the color did not exactly match. Customer service was excellent about sending me two more pillowcases so I would have four that matched. Excellent! For the cost of these sheets, I am satisfied with the characteristics and coolness of the sheets.\",\n          \"I loved the waterproof sac, although the opening was made of a hard plastic. I don\\u2019t know if that would break easily. But I couldn\\u2019t turn my phone on, once it was in the pouch.\",\n          \"Je trouve le go\\u00fbt m\\u00e9diocre. La mousse ne tient pas, c'est bizarre. J'ach\\u00e8te les m\\u00eames dans le commerce et le go\\u00fbt est bien meilleur...\\r\\nVieux lot ou contrefa\\u00e7on !?\"\n        ],\n        \"semantic_type\": \"\",\n        \"description\": \"\"\n      }\n    }\n  ]\n}"
            }
          },
          "metadata": {},
          "execution_count": 6
        }
      ],
      "source": [
        "df.head()"
      ]
    },
    {
      "source": [
        "# @title Product\n",
        "\n",
        "from matplotlib import pyplot as plt\n",
        "import seaborn as sns\n",
        "df.groupby('Product').size().plot(kind='barh', color=sns.palettes.mpl_palette('Dark2'))\n",
        "plt.gca().spines[['top', 'right',]].set_visible(False)"
      ],
      "cell_type": "code",
      "execution_count": 38,
      "outputs": [
        {
          "output_type": "display_data",
          "data": {
            "text/plain": [
              "<Figure size 640x480 with 1 Axes>"
            ],
            "image/png": "[encoded data removed]"
          },
          "metadata": {}
        }
      ],
      "metadata": {
        "cellView": "form",
        "colab": {
          "base_uri": "https://localhost:8080/",
          "height": 430
        },
        "id": "YnA_QgnnbYVz",
        "outputId": "aac3b825-79f5-4c08-8e95-0d39cfbdfa49"
      },
      "id": "YnA_QgnnbYVz"
    },
    {
      "cell_type": "markdown",
      "id": "b940ce7c",
      "metadata": {
        "id": "b940ce7c"
      },
      "source": [
        "## LLMChain"
      ]
    },
    {
      "cell_type": "code",
      "source": [
        "# New Cell.\n",
        "!pip install langchain_openai\n",
        "!pip install langchain"
      ],
      "metadata": {
        "colab": {
          "base_uri": "https://localhost:8080/"
        },
        "id": "yC5mAty5T1RU",
        "outputId": "6c9a3044-23d1-4b11-d65b-9643e0d3ba16"
      },
      "id": "yC5mAty5T1RU",
      "execution_count": 24,
      "outputs": [
        {
          "output_type": "stream",
          "name": "stdout",
          "text": [
            "Requirement already satisfied: langchain_openai in /usr/local/lib/python3.10/dist-packages (0.1.14)\n",
            "Requirement already satisfied: langchain-core<0.3,>=0.2.2 in /usr/local/lib/python3.10/dist-packages (from langchain_openai) (0.2.11)\n",
            "Requirement already satisfied: openai<2.0.0,>=1.32.0 in /usr/local/lib/python3.10/dist-packages (from langchain_openai) (1.35.9)\n",
            "Requirement already satisfied: tiktoken<1,>=0.7 in /usr/local/lib/python3.10/dist-packages (from langchain_openai) (0.7.0)\n",
            "Requirement already satisfied: PyYAML>=5.3 in /usr/local/lib/python3.10/dist-packages (from langchain-core<0.3,>=0.2.2->langchain_openai) (6.0.1)\n",
            "Requirement already satisfied: jsonpatch<2.0,>=1.33 in /usr/local/lib/python3.10/dist-packages (from langchain-core<0.3,>=0.2.2->langchain_openai) (1.33)\n",
            "Requirement already satisfied: langsmith<0.2.0,>=0.1.75 in /usr/local/lib/python3.10/dist-packages (from langchain-core<0.3,>=0.2.2->langchain_openai) (0.1.83)\n",
            "Requirement already satisfied: packaging<25,>=23.2 in /usr/local/lib/python3.10/dist-packages (from langchain-core<0.3,>=0.2.2->langchain_openai) (24.1)\n",
            "Requirement already satisfied: pydantic<3,>=1 in /usr/local/lib/python3.10/dist-packages (from langchain-core<0.3,>=0.2.2->langchain_openai) (2.7.4)\n",
            "Requirement already satisfied: tenacity!=8.4.0,<9.0.0,>=8.1.0 in /usr/local/lib/python3.10/dist-packages (from langchain-core<0.3,>=0.2.2->langchain_openai) (8.4.2)\n",
            "Requirement already satisfied: anyio<5,>=3.5.0 in /usr/local/lib/python3.10/dist-packages (from openai<2.0.0,>=1.32.0->langchain_openai) (3.7.1)\n",
            "Requirement already satisfied: distro<2,>=1.7.0 in /usr/lib/python3/dist-packages (from openai<2.0.0,>=1.32.0->langchain_openai) (1.7.0)\n",
            "Requirement already satisfied: httpx<1,>=0.23.0 in /usr/local/lib/python3.10/dist-packages (from openai<2.0.0,>=1.32.0->langchain_openai) (0.27.0)\n",
            "Requirement already satisfied: sniffio in /usr/local/lib/python3.10/dist-packages (from openai<2.0.0,>=1.32.0->langchain_openai) (1.3.1)\n",
            "Requirement already satisfied: tqdm>4 in /usr/local/lib/python3.10/dist-packages (from openai<2.0.0,>=1.32.0->langchain_openai) (4.66.4)\n",
            "Requirement already satisfied: typing-extensions<5,>=4.7 in /usr/local/lib/python3.10/dist-packages (from openai<2.0.0,>=1.32.0->langchain_openai) (4.12.2)\n",
            "Requirement already satisfied: regex>=2022.1.18 in /usr/local/lib/python3.10/dist-packages (from tiktoken<1,>=0.7->langchain_openai) (2024.5.15)\n",
            "Requirement already satisfied: requests>=2.26.0 in /usr/local/lib/python3.10/dist-packages (from tiktoken<1,>=0.7->langchain_openai) (2.31.0)\n",
            "Requirement already satisfied: idna>=2.8 in /usr/local/lib/python3.10/dist-packages (from anyio<5,>=3.5.0->openai<2.0.0,>=1.32.0->langchain_openai) (3.7)\n",
            "Requirement already satisfied: exceptiongroup in /usr/local/lib/python3.10/dist-packages (from anyio<5,>=3.5.0->openai<2.0.0,>=1.32.0->langchain_openai) (1.2.1)\n",
            "Requirement already satisfied: certifi in /usr/local/lib/python3.10/dist-packages (from httpx<1,>=0.23.0->openai<2.0.0,>=1.32.0->langchain_openai) (2024.6.2)\n",
            "Requirement already satisfied: httpcore==1.* in /usr/local/lib/python3.10/dist-packages (from httpx<1,>=0.23.0->openai<2.0.0,>=1.32.0->langchain_openai) (1.0.5)\n",
            "Requirement already satisfied: h11<0.15,>=0.13 in /usr/local/lib/python3.10/dist-packages (from httpcore==1.*->httpx<1,>=0.23.0->openai<2.0.0,>=1.32.0->langchain_openai) (0.14.0)\n",
            "Requirement already satisfied: jsonpointer>=1.9 in /usr/local/lib/python3.10/dist-packages (from jsonpatch<2.0,>=1.33->langchain-core<0.3,>=0.2.2->langchain_openai) (3.0.0)\n",
            "Requirement already satisfied: orjson<4.0.0,>=3.9.14 in /usr/local/lib/python3.10/dist-packages (from langsmith<0.2.0,>=0.1.75->langchain-core<0.3,>=0.2.2->langchain_openai) (3.10.6)\n",
            "Requirement already satisfied: annotated-types>=0.4.0 in /usr/local/lib/python3.10/dist-packages (from pydantic<3,>=1->langchain-core<0.3,>=0.2.2->langchain_openai) (0.7.0)\n",
            "Requirement already satisfied: pydantic-core==2.18.4 in /usr/local/lib/python3.10/dist-packages (from pydantic<3,>=1->langchain-core<0.3,>=0.2.2->langchain_openai) (2.18.4)\n",
            "Requirement already satisfied: charset-normalizer<4,>=2 in /usr/local/lib/python3.10/dist-packages (from requests>=2.26.0->tiktoken<1,>=0.7->langchain_openai) (3.3.2)\n",
            "Requirement already satisfied: urllib3<3,>=1.21.1 in /usr/local/lib/python3.10/dist-packages (from requests>=2.26.0->tiktoken<1,>=0.7->langchain_openai) (2.0.7)\n",
            "Requirement already satisfied: langchain in /usr/local/lib/python3.10/dist-packages (0.2.6)\n",
            "Requirement already satisfied: PyYAML>=5.3 in /usr/local/lib/python3.10/dist-packages (from langchain) (6.0.1)\n",
            "Requirement already satisfied: SQLAlchemy<3,>=1.4 in /usr/local/lib/python3.10/dist-packages (from langchain) (2.0.31)\n",
            "Requirement already satisfied: aiohttp<4.0.0,>=3.8.3 in /usr/local/lib/python3.10/dist-packages (from langchain) (3.9.5)\n",
            "Requirement already satisfied: async-timeout<5.0.0,>=4.0.0 in /usr/local/lib/python3.10/dist-packages (from langchain) (4.0.3)\n",
            "Requirement already satisfied: langchain-core<0.3.0,>=0.2.10 in /usr/local/lib/python3.10/dist-packages (from langchain) (0.2.11)\n",
            "Requirement already satisfied: langchain-text-splitters<0.3.0,>=0.2.0 in /usr/local/lib/python3.10/dist-packages (from langchain) (0.2.2)\n",
            "Requirement already satisfied: langsmith<0.2.0,>=0.1.17 in /usr/local/lib/python3.10/dist-packages (from langchain) (0.1.83)\n",
            "Requirement already satisfied: numpy<2,>=1 in /usr/local/lib/python3.10/dist-packages (from langchain) (1.25.2)\n",
            "Requirement already satisfied: pydantic<3,>=1 in /usr/local/lib/python3.10/dist-packages (from langchain) (2.7.4)\n",
            "Requirement already satisfied: requests<3,>=2 in /usr/local/lib/python3.10/dist-packages (from langchain) (2.31.0)\n",
            "Requirement already satisfied: tenacity!=8.4.0,<9.0.0,>=8.1.0 in /usr/local/lib/python3.10/dist-packages (from langchain) (8.4.2)\n",
            "Requirement already satisfied: aiosignal>=1.1.2 in /usr/local/lib/python3.10/dist-packages (from aiohttp<4.0.0,>=3.8.3->langchain) (1.3.1)\n",
            "Requirement already satisfied: attrs>=17.3.0 in /usr/local/lib/python3.10/dist-packages (from aiohttp<4.0.0,>=3.8.3->langchain) (23.2.0)\n",
            "Requirement already satisfied: frozenlist>=1.1.1 in /usr/local/lib/python3.10/dist-packages (from aiohttp<4.0.0,>=3.8.3->langchain) (1.4.1)\n",
            "Requirement already satisfied: multidict<7.0,>=4.5 in /usr/local/lib/python3.10/dist-packages (from aiohttp<4.0.0,>=3.8.3->langchain) (6.0.5)\n",
            "Requirement already satisfied: yarl<2.0,>=1.0 in /usr/local/lib/python3.10/dist-packages (from aiohttp<4.0.0,>=3.8.3->langchain) (1.9.4)\n",
            "Requirement already satisfied: jsonpatch<2.0,>=1.33 in /usr/local/lib/python3.10/dist-packages (from langchain-core<0.3.0,>=0.2.10->langchain) (1.33)\n",
            "Requirement already satisfied: packaging<25,>=23.2 in /usr/local/lib/python3.10/dist-packages (from langchain-core<0.3.0,>=0.2.10->langchain) (24.1)\n",
            "Requirement already satisfied: orjson<4.0.0,>=3.9.14 in /usr/local/lib/python3.10/dist-packages (from langsmith<0.2.0,>=0.1.17->langchain) (3.10.6)\n",
            "Requirement already satisfied: annotated-types>=0.4.0 in /usr/local/lib/python3.10/dist-packages (from pydantic<3,>=1->langchain) (0.7.0)\n",
            "Requirement already satisfied: pydantic-core==2.18.4 in /usr/local/lib/python3.10/dist-packages (from pydantic<3,>=1->langchain) (2.18.4)\n",
            "Requirement already satisfied: typing-extensions>=4.6.1 in /usr/local/lib/python3.10/dist-packages (from pydantic<3,>=1->langchain) (4.12.2)\n",
            "Requirement already satisfied: charset-normalizer<4,>=2 in /usr/local/lib/python3.10/dist-packages (from requests<3,>=2->langchain) (3.3.2)\n",
            "Requirement already satisfied: idna<4,>=2.5 in /usr/local/lib/python3.10/dist-packages (from requests<3,>=2->langchain) (3.7)\n",
            "Requirement already satisfied: urllib3<3,>=1.21.1 in /usr/local/lib/python3.10/dist-packages (from requests<3,>=2->langchain) (2.0.7)\n",
            "Requirement already satisfied: certifi>=2017.4.17 in /usr/local/lib/python3.10/dist-packages (from requests<3,>=2->langchain) (2024.6.2)\n",
            "Requirement already satisfied: greenlet!=0.4.17 in /usr/local/lib/python3.10/dist-packages (from SQLAlchemy<3,>=1.4->langchain) (3.0.3)\n",
            "Requirement already satisfied: jsonpointer>=1.9 in /usr/local/lib/python3.10/dist-packages (from jsonpatch<2.0,>=1.33->langchain-core<0.3.0,>=0.2.10->langchain) (3.0.0)\n"
          ]
        }
      ]
    },
    {
      "cell_type": "code",
      "execution_count": 25,
      "id": "e92dff22",
      "metadata": {
        "tags": [],
        "id": "e92dff22"
      },
      "outputs": [],
      "source": [
        "from langchain_openai import ChatOpenAI\n",
        "from langchain.prompts import ChatPromptTemplate\n",
        "from langchain.chains import LLMChain"
      ]
    },
    {
      "cell_type": "code",
      "execution_count": 32,
      "id": "943237a7",
      "metadata": {
        "id": "943237a7"
      },
      "outputs": [],
      "source": [
        "#Replace None by your own value and justify\n",
        "llm = ChatOpenAI(temperature=0.7, api_key = OPENAI_API_KEY) # for translating pusposes no need to additional text.\n"
      ]
    },
    {
      "cell_type": "code",
      "execution_count": 41,
      "id": "cdcdb42d",
      "metadata": {
        "id": "cdcdb42d"
      },
      "outputs": [],
      "source": [
        "prompt = ChatPromptTemplate.from_template( \"You are experienced seller, provide the clients a detailed description of the product: {product_name}\"\n",
        ")"
      ]
    },
    {
      "cell_type": "code",
      "execution_count": 42,
      "id": "d7abc20b",
      "metadata": {
        "id": "d7abc20b"
      },
      "outputs": [],
      "source": [
        "\n",
        "chain = LLMChain(llm=llm, prompt=prompt)"
      ]
    },
    {
      "cell_type": "code",
      "execution_count": 92,
      "id": "ad44d1fb",
      "metadata": {
        "colab": {
          "base_uri": "https://localhost:8080/",
          "height": 157
        },
        "id": "ad44d1fb",
        "outputId": "c1a3cd8c-73bd-461a-ed77-4bab75a17796"
      },
      "outputs": [
        {
          "output_type": "execute_result",
          "data": {
            "text/plain": [
              "\"These Nike shoes are a must-have for any athletic enthusiast or casual wearer. With their sleek design and superior comfort, they are perfect for running, training, or everyday wear.\\n\\nMade with high-quality materials, these shoes are durable and built to last. The cushioned midsole provides excellent support and shock absorption, while the breathable upper allows for maximum airflow to keep your feet cool and comfortable.\\n\\nThe rubber outsole offers great traction on a variety of surfaces, making these shoes perfect for indoor or outdoor activities. And with the iconic Nike swoosh logo on the side, you'll be sporting a classic and stylish look wherever you go.\\n\\nWhether you're hitting the gym, going for a run, or just running errands, these Nike shoes are the perfect choice for both style and performance. Treat yourself to a pair today and experience the comfort and quality that only Nike can provide.\""
            ],
            "application/vnd.google.colaboratory.intrinsic+json": {
              "type": "string"
            }
          },
          "metadata": {},
          "execution_count": 92
        }
      ],
      "source": [
        "product = \"Nike shoes\" #Select a product type to be describe\n",
        "chain.run(product)"
      ]
    },
    {
      "cell_type": "markdown",
      "id": "69b03469",
      "metadata": {
        "id": "69b03469"
      },
      "source": [
        "## SimpleSequentialChain"
      ]
    },
    {
      "cell_type": "code",
      "execution_count": 93,
      "id": "febee243",
      "metadata": {
        "id": "febee243"
      },
      "outputs": [],
      "source": [
        "from langchain.chains import SimpleSequentialChain"
      ]
    },
    {
      "cell_type": "code",
      "execution_count": 94,
      "id": "2f31aa8a",
      "metadata": {
        "id": "2f31aa8a"
      },
      "outputs": [],
      "source": [
        "llm = ChatOpenAI(temperature=0.9, api_key = OPENAI_API_KEY)\n",
        "\n",
        "# prompt template 1\n",
        "first_prompt = ChatPromptTemplate.from_template( \"You are experienced seller, provide the clients a detailed description of the product: {product_name}\"\n",
        "\n",
        ")\n",
        "\n",
        "# Chain 1\n",
        "chain_one = LLMChain(llm=llm, prompt=first_prompt)"
      ]
    },
    {
      "cell_type": "code",
      "execution_count": 95,
      "id": "3f5d5b76",
      "metadata": {
        "id": "3f5d5b76"
      },
      "outputs": [],
      "source": [
        "\n",
        "# prompt template 2\n",
        "second_prompt = ChatPromptTemplate.from_template(\n",
        "    \"Based on the detailed description: {detailed description}, create a marketing pitch for the product\"\n",
        ")\n",
        "# chain 2\n",
        "chain_two = LLMChain(llm=llm, prompt=second_prompt)"
      ]
    },
    {
      "cell_type": "code",
      "execution_count": 96,
      "id": "6c1eb2c4",
      "metadata": {
        "id": "6c1eb2c4"
      },
      "outputs": [],
      "source": [
        "overall_simple_chain = SimpleSequentialChain(chains=[chain_one, chain_two],\n",
        "                                             verbose=True\n",
        "                                            )"
      ]
    },
    {
      "cell_type": "code",
      "execution_count": 85,
      "id": "78458efe",
      "metadata": {
        "colab": {
          "base_uri": "https://localhost:8080/",
          "height": 455
        },
        "id": "78458efe",
        "outputId": "31625792-484b-4b26-f22a-b68669a03932"
      },
      "outputs": [
        {
          "output_type": "stream",
          "name": "stdout",
          "text": [
            "\n",
            "\n",
            "\u001b[1m> Entering new SimpleSequentialChain chain...\u001b[0m\n",
            "\u001b[36;1m\u001b[1;3mThe iPhone 15 Pro is the latest flagship smartphone from Apple, offering a premium user experience with top-of-the-line features and technology. \n",
            "\n",
            "The iPhone 15 Pro features a stunning Super Retina XDR display, providing vibrant colors and high resolution for an immersive viewing experience. The device is powered by the latest A15 Bionic chip, ensuring fast and efficient performance for all your apps and tasks. \n",
            "\n",
            "With a triple camera system, including wide, ultra-wide, and telephoto lenses, the iPhone 15 Pro captures stunning photos and videos in any lighting conditions. The device also supports advanced photography features such as Night mode, Deep Fusion, and Smart HDR, allowing you to take professional-quality images with ease. \n",
            "\n",
            "Other features of the iPhone 15 Pro include Face ID for secure authentication, 5G connectivity for fast internet speeds, and iOS 16 for a seamless user experience. The device is available in a variety of storage options and colors to suit your individual preferences. \n",
            "\n",
            "Overall, the iPhone 15 Pro is a premium smartphone that combines cutting-edge technology with sleek design, making it the perfect choice for those looking for a top-of-the-line mobile device.\u001b[0m\n",
            "\u001b[33;1m\u001b[1;3mIntroducing the all-new iPhone 15 Pro – the ultimate flagship smartphone from Apple! Immerse yourself in a world of stunning visuals with the Super Retina XDR display, powered by the lightning-fast A15 Bionic chip. Capture every moment in stunning detail with the triple camera system, complete with advanced photography features for professional-quality images. \n",
            "\n",
            "Stay secure with Face ID, enjoy lightning-fast 5G connectivity, and experience seamless performance with iOS 16. With a range of storage options and colors to choose from, the iPhone 15 Pro is designed to suit your individual style and needs. Elevate your mobile experience with the iPhone 15 Pro – the perfect combination of cutting-edge technology and elegant design. Get yours today and experience the future of smartphones!\u001b[0m\n",
            "\n",
            "\u001b[1m> Finished chain.\u001b[0m\n"
          ]
        },
        {
          "output_type": "execute_result",
          "data": {
            "text/plain": [
              "'Introducing the all-new iPhone 15 Pro – the ultimate flagship smartphone from Apple! Immerse yourself in a world of stunning visuals with the Super Retina XDR display, powered by the lightning-fast A15 Bionic chip. Capture every moment in stunning detail with the triple camera system, complete with advanced photography features for professional-quality images. \\n\\nStay secure with Face ID, enjoy lightning-fast 5G connectivity, and experience seamless performance with iOS 16. With a range of storage options and colors to choose from, the iPhone 15 Pro is designed to suit your individual style and needs. Elevate your mobile experience with the iPhone 15 Pro – the perfect combination of cutting-edge technology and elegant design. Get yours today and experience the future of smartphones!'"
            ],
            "application/vnd.google.colaboratory.intrinsic+json": {
              "type": "string"
            }
          },
          "metadata": {},
          "execution_count": 85
        }
      ],
      "source": [
        "overall_simple_chain.run(product)"
      ]
    },
    {
      "cell_type": "markdown",
      "id": "0dd59bda-9d02-44e7-b3d6-2bec61b99d8f",
      "metadata": {
        "id": "0dd59bda-9d02-44e7-b3d6-2bec61b99d8f"
      },
      "source": [
        "**Repeat the above twice for different products**"
      ]
    },
    {
      "cell_type": "code",
      "source": [
        "overall_simple_chain.run(product)"
      ],
      "metadata": {
        "colab": {
          "base_uri": "https://localhost:8080/",
          "height": 507
        },
        "id": "tmSV06dRkLDG",
        "outputId": "8ddc7566-7d33-4195-bc8f-b516aea30545"
      },
      "id": "tmSV06dRkLDG",
      "execution_count": 91,
      "outputs": [
        {
          "output_type": "stream",
          "name": "stdout",
          "text": [
            "\n",
            "\n",
            "\u001b[1m> Entering new SimpleSequentialChain chain...\u001b[0m\n",
            "\u001b[36;1m\u001b[1;3mThe MacBook Pro is a high-performance laptop designed for professionals and power users. It features a sleek and modern design with a stunning Retina display, delivering vibrant colors and sharp details. The MacBook Pro is powered by an Intel Core processor, providing fast and efficient performance for multitasking, video editing, graphic design, and more.\n",
            "\n",
            "The MacBook Pro comes in various sizes, including 13-inch and 16-inch models, with options for different processors, memory, and storage capacities to suit your needs. It also offers a range of connectivity options, including Thunderbolt ports, USB-C, and headphone jack.\n",
            "\n",
            "The MacBook Pro is known for its long battery life, lasting up to 10 hours on a single charge, making it ideal for on-the-go professionals who need to work from anywhere. It also features a Touch Bar, a dynamic and interactive touchscreen display that replaces the traditional function keys, providing quick access to shortcuts and controls.\n",
            "\n",
            "Overall, the MacBook Pro is a powerful and versatile laptop that combines cutting-edge technology with a sleek and lightweight design, making it the perfect choice for professionals who demand top performance and reliability in their daily work.\u001b[0m\n",
            "\u001b[33;1m\u001b[1;3m\"Experience the ultimate in performance and design with the MacBook Pro. Whether you're a creative professional, a power user, or someone who demands the best in technology, the MacBook Pro is the perfect choice for you.\n",
            "\n",
            "Featuring a stunning Retina display, powerful Intel Core processor, and a range of customizable options, the MacBook Pro delivers fast and efficient performance for all your needs. With up to 10 hours of battery life, you can work from anywhere without worrying about running out of power.\n",
            "\n",
            "The Touch Bar provides quick access to shortcuts and controls, while the sleek and lightweight design makes it easy to take your work on the go. Stay connected with Thunderbolt ports, USB-C, and a headphone jack for all your connectivity needs.\n",
            "\n",
            "Don't settle for less. Choose the MacBook Pro and elevate your productivity to new heights. Upgrade to the ultimate in performance and reliability today.\"\u001b[0m\n",
            "\n",
            "\u001b[1m> Finished chain.\u001b[0m\n"
          ]
        },
        {
          "output_type": "execute_result",
          "data": {
            "text/plain": [
              "'\"Experience the ultimate in performance and design with the MacBook Pro. Whether you\\'re a creative professional, a power user, or someone who demands the best in technology, the MacBook Pro is the perfect choice for you.\\n\\nFeaturing a stunning Retina display, powerful Intel Core processor, and a range of customizable options, the MacBook Pro delivers fast and efficient performance for all your needs. With up to 10 hours of battery life, you can work from anywhere without worrying about running out of power.\\n\\nThe Touch Bar provides quick access to shortcuts and controls, while the sleek and lightweight design makes it easy to take your work on the go. Stay connected with Thunderbolt ports, USB-C, and a headphone jack for all your connectivity needs.\\n\\nDon\\'t settle for less. Choose the MacBook Pro and elevate your productivity to new heights. Upgrade to the ultimate in performance and reliability today.\"'"
            ],
            "application/vnd.google.colaboratory.intrinsic+json": {
              "type": "string"
            }
          },
          "metadata": {},
          "execution_count": 91
        }
      ]
    },
    {
      "cell_type": "code",
      "source": [
        "overall_simple_chain.run(product)"
      ],
      "metadata": {
        "colab": {
          "base_uri": "https://localhost:8080/",
          "height": 507
        },
        "id": "qj567Td7kLpC",
        "outputId": "d23300a2-1b0f-4140-872f-5777b9ab3dc4"
      },
      "id": "qj567Td7kLpC",
      "execution_count": 97,
      "outputs": [
        {
          "output_type": "stream",
          "name": "stdout",
          "text": [
            "\n",
            "\n",
            "\u001b[1m> Entering new SimpleSequentialChain chain...\u001b[0m\n",
            "\u001b[36;1m\u001b[1;3mThese Nike shoes are a high-quality and stylish footwear option for anyone who values both performance and style. They are constructed with durable materials that provide long-lasting support and comfort. The cushioned insoles offer excellent shock absorption, making them ideal for athletic activities or everyday wear.\n",
            "\n",
            "The shoes feature a sleek design with the iconic Nike swoosh logo, giving them a classic and timeless look. The rubber outsole provides excellent grip and traction on various surfaces, ensuring stability and safety while you're on the move.\n",
            "\n",
            "These Nike shoes are versatile and can be worn for a variety of activities, including running, walking, or casual outings. They are also available in a range of sizes and colors, so you can find the perfect pair to suit your individual style and preferences.\n",
            "\n",
            "Overall, these Nike shoes are a reliable and stylish choice for anyone looking for a high-quality footwear option that combines performance and fashion.\u001b[0m\n",
            "\u001b[33;1m\u001b[1;3mIntroducing the ultimate combination of style and performance - Nike shoes! Crafted with the highest quality materials and designed for both durability and comfort, these shoes are perfect for all your athletic needs. Whether you're hitting the gym, going for a run, or simply taking a stroll around town, these shoes have got you covered.\n",
            "\n",
            "With a sleek and timeless design featuring the iconic Nike swoosh logo, these shoes will elevate your style game while providing the support and stability you need. The cushioned insoles offer unbeatable shock absorption, ensuring a comfortable experience all day long.\n",
            "\n",
            "Available in a variety of sizes and colors, you can find the perfect pair to match your individual style. Plus, with the rubber outsole providing superior grip and traction, you can move with confidence on any surface.\n",
            "\n",
            "Don't compromise on style or performance - choose Nike shoes for the best of both worlds. Upgrade your footwear game today and experience the difference for yourself!\u001b[0m\n",
            "\n",
            "\u001b[1m> Finished chain.\u001b[0m\n"
          ]
        },
        {
          "output_type": "execute_result",
          "data": {
            "text/plain": [
              "\"Introducing the ultimate combination of style and performance - Nike shoes! Crafted with the highest quality materials and designed for both durability and comfort, these shoes are perfect for all your athletic needs. Whether you're hitting the gym, going for a run, or simply taking a stroll around town, these shoes have got you covered.\\n\\nWith a sleek and timeless design featuring the iconic Nike swoosh logo, these shoes will elevate your style game while providing the support and stability you need. The cushioned insoles offer unbeatable shock absorption, ensuring a comfortable experience all day long.\\n\\nAvailable in a variety of sizes and colors, you can find the perfect pair to match your individual style. Plus, with the rubber outsole providing superior grip and traction, you can move with confidence on any surface.\\n\\nDon't compromise on style or performance - choose Nike shoes for the best of both worlds. Upgrade your footwear game today and experience the difference for yourself!\""
            ],
            "application/vnd.google.colaboratory.intrinsic+json": {
              "type": "string"
            }
          },
          "metadata": {},
          "execution_count": 97
        }
      ]
    },
    {
      "cell_type": "markdown",
      "id": "7b5ce18c",
      "metadata": {
        "id": "7b5ce18c"
      },
      "source": [
        "## SequentialChain"
      ]
    },
    {
      "cell_type": "code",
      "execution_count": 98,
      "id": "4c129ef6",
      "metadata": {
        "id": "4c129ef6"
      },
      "outputs": [],
      "source": [
        "from langchain.chains import SequentialChain"
      ]
    },
    {
      "cell_type": "code",
      "execution_count": 149,
      "id": "016187ac",
      "metadata": {
        "id": "016187ac"
      },
      "outputs": [],
      "source": [
        "llm = ChatOpenAI(temperature=0.9, api_key = OPENAI_API_KEY)\n",
        "\n",
        "\n",
        "first_prompt = ChatPromptTemplate.from_template(\n",
        "  \"Translate the {review} into Dutch\"\n",
        ")\n",
        "\n",
        "chain_one = LLMChain(llm=llm, prompt=first_prompt,\n",
        "                     output_key=\"translate_review\" #Give a name to your output\n",
        "                    )\n"
      ]
    },
    {
      "cell_type": "code",
      "execution_count": 150,
      "id": "0fb0730e",
      "metadata": {
        "id": "0fb0730e"
      },
      "outputs": [],
      "source": [
        "second_prompt = ChatPromptTemplate.from_template(\n",
        "    \"summarise the translated review into 2 sentences.\"\n",
        ")\n",
        "\n",
        "chain_two = LLMChain(llm=llm, prompt=second_prompt,\n",
        "                     output_key=\"summarised_review\" #give a name to this output\n",
        "                    )\n"
      ]
    },
    {
      "cell_type": "code",
      "execution_count": 151,
      "id": "6accf92d",
      "metadata": {
        "id": "6accf92d"
      },
      "outputs": [],
      "source": [
        "# prompt template 3: translate to english or other language\n",
        "third_prompt = ChatPromptTemplate.from_template(\n",
        "    \"translate the {summarised_review} into English\"\n",
        ")\n",
        "# chain 3: input= Review and output= language\n",
        "chain_three = LLMChain(llm=llm, prompt=third_prompt,\n",
        "                       output_key=\"english_summary\"\n",
        "                      )\n"
      ]
    },
    {
      "cell_type": "code",
      "execution_count": 152,
      "id": "c7a46121",
      "metadata": {
        "id": "c7a46121"
      },
      "outputs": [],
      "source": [
        "\n",
        "# prompt template 4: follow up message that take as inputs the two previous prompts' variables\n",
        "fourth_prompt = ChatPromptTemplate.from_template(\n",
        "        \"Compare the {translate_review} and {english_summary} finding common themes\"\n",
        ")\n",
        "chain_four = LLMChain(llm=llm, prompt=fourth_prompt,\n",
        "                      output_key=\"result\"\n",
        "                     )\n"
      ]
    },
    {
      "cell_type": "code",
      "execution_count": 153,
      "id": "89603117",
      "metadata": {
        "id": "89603117"
      },
      "outputs": [],
      "source": [
        "# overall_chain: input= Review\n",
        "# and output= English_Review,summary, followup_message\n",
        "overall_chain = SequentialChain(\n",
        "    chains=[chain_one, chain_two, chain_three, chain_four],\n",
        "    input_variables=[\"review\"],\n",
        "    output_variables=[\"translate_review\", \"summarised_review\", \"english_summary\", \"result\"],\n",
        "    verbose=True\n",
        ")"
      ]
    },
    {
      "cell_type": "code",
      "execution_count": 154,
      "id": "51b04f45",
      "metadata": {
        "colab": {
          "base_uri": "https://localhost:8080/"
        },
        "id": "51b04f45",
        "outputId": "270c904a-c3c5-4bda-9f94-8abf4b0638fd"
      },
      "outputs": [
        {
          "output_type": "stream",
          "name": "stdout",
          "text": [
            "\n",
            "\n",
            "\u001b[1m> Entering new SequentialChain chain...\u001b[0m\n",
            "\n",
            "\u001b[1m> Finished chain.\u001b[0m\n"
          ]
        },
        {
          "output_type": "execute_result",
          "data": {
            "text/plain": [
              "{'review': \"Je trouve le goût médiocre. La mousse ne tient pas, c'est bizarre. J'achète les mêmes dans le commerce et le goût est bien meilleur...\\r\\nVieux lot ou contrefaçon !?\",\n",
              " 'translate_review': 'Ik vind de smaak middelmatig. Het schuim blijft niet staan, het is vreemd. Ik koop dezelfde in de winkel en de smaak is veel beter... Oude partij of namaak!?',\n",
              " 'summarised_review': 'The reviewer describes the hotel as very clean and modern with comfortable rooms and great amenities. They particularly enjoyed the friendly staff and convenient location near the train station.',\n",
              " 'english_summary': 'El revisor describe el hotel como muy limpio y moderno, con habitaciones cómodas y excelentes comodidades. Les gustó especialmente el personal amable y la ubicación conveniente cerca de la estación de tren.',\n",
              " 'result': 'Both reviews discuss the quality of a product or service. The first review is critical of a coffee product, questioning if it is an old batch or counterfeit. The second review praises a hotel for being clean, modern, and comfortable, highlighting the friendly staff and convenient location. Both reviews touch on the overall experience and value of the product or service being reviewed.'}"
            ]
          },
          "metadata": {},
          "execution_count": 154
        }
      ],
      "source": [
        "review = df.Review[5]\n",
        "overall_chain(review)"
      ]
    },
    {
      "cell_type": "markdown",
      "id": "3187cf07-458a-4226-bec7-3dec7ee47af2",
      "metadata": {
        "id": "3187cf07-458a-4226-bec7-3dec7ee47af2"
      },
      "source": [
        "**Repeat the above twice for different products or reviews**"
      ]
    },
    {
      "cell_type": "code",
      "source": [
        "overall_chain(review)"
      ],
      "metadata": {
        "colab": {
          "base_uri": "https://localhost:8080/"
        },
        "id": "XkA7gjmwpjJD",
        "outputId": "efd26593-9d7a-48c3-cca7-fcb95a5c4555"
      },
      "id": "XkA7gjmwpjJD",
      "execution_count": 161,
      "outputs": [
        {
          "output_type": "stream",
          "name": "stdout",
          "text": [
            "\n",
            "\n",
            "\u001b[1m> Entering new SequentialChain chain...\u001b[0m\n",
            "\n",
            "\u001b[1m> Finished chain.\u001b[0m\n"
          ]
        },
        {
          "output_type": "execute_result",
          "data": {
            "text/plain": [
              "{'review': \"Je trouve le goût médiocre. La mousse ne tient pas, c'est bizarre. J'achète les mêmes dans le commerce et le goût est bien meilleur...\\r\\nVieux lot ou contrefaçon !?\",\n",
              " 'translate_review': 'Ik vind de smaak matig. Het schuim blijft niet, het is vreemd. Ik koop dezelfde in de winkel en de smaak is veel beter... Oude partij of namaak!?',\n",
              " 'summarised_review': 'The review praises the hotel for its clean, comfortable rooms and friendly staff. The reviewer also enjoyed the location of the hotel, which was close to many attractions and restaurants.',\n",
              " 'english_summary': 'La reseña elogia al hotel por sus habitaciones limpias, cómodas y su personal amigable. El revisor también disfrutó de la ubicación del hotel, que estaba cerca de muchas atracciones y restaurantes.',\n",
              " 'result': 'Both reviews discuss the quality of a product or service and express disappointment or satisfaction with the experience. The first review mentions a negative experience with a product (coffee), questioning the quality and authenticity of the item. The second review praises a hotel for its clean rooms, comfortable accommodations, friendly staff, and convenient location. Both reviews also touch on the importance of quality and authenticity when it comes to consumer experiences.'}"
            ]
          },
          "metadata": {},
          "execution_count": 161
        }
      ]
    },
    {
      "cell_type": "markdown",
      "id": "3041ea4c",
      "metadata": {
        "id": "3041ea4c"
      },
      "source": [
        "## Router Chain"
      ]
    },
    {
      "cell_type": "code",
      "execution_count": 142,
      "id": "ade83f4f",
      "metadata": {
        "id": "ade83f4f"
      },
      "outputs": [],
      "source": [
        "physics_template = \"\"\"You are a very smart physics professor. \\\n",
        "You are great at answering questions about physics in a concise\\\n",
        "and easy to understand manner. \\\n",
        "When you don't know the answer to a question you admit\\\n",
        "that you don't know.\n",
        "\n",
        "Here is a question:\n",
        "{input}\"\"\"\n",
        "\n",
        "\n",
        "math_template = \"\"\"You are a very good mathematician. \\\n",
        "You are great at answering math questions. \\\n",
        "You are so good because you are able to break down \\\n",
        "hard problems into their component parts,\n",
        "answer the component parts, and then put them together\\\n",
        "to answer the broader question.\n",
        "\n",
        "Here is a question:\n",
        "{input}\"\"\"\n",
        "\n",
        "history_template = \"\"\"You are a very good historian. \\\n",
        "You have an excellent knowledge of and understanding of people,\\\n",
        "events and contexts from a range of historical periods. \\\n",
        "You have the ability to think, reflect, debate, discuss and \\\n",
        "evaluate the past. You have a respect for historical evidence\\\n",
        "and the ability to make use of it to support your explanations \\\n",
        "and judgements.\n",
        "\n",
        "Here is a question:\n",
        "{input}\"\"\"\n",
        "\n",
        "\n",
        "computerscience_template = \"\"\" You are a successful computer scientist.\\\n",
        "You have a passion for creativity, collaboration,\\\n",
        "forward-thinking, confidence, strong problem-solving capabilities,\\\n",
        "understanding of theories and algorithms, and excellent communication \\\n",
        "skills. You are great at answering coding questions. \\\n",
        "You are so good because you know how to solve a problem by \\\n",
        "describing the solution in imperative steps \\\n",
        "that a machine can easily interpret and you know how to \\\n",
        "choose a solution that has a good balance between \\\n",
        "time complexity and space complexity.\n",
        "\n",
        "Here is a question:\n",
        "{input}\"\"\""
      ]
    },
    {
      "cell_type": "code",
      "execution_count": 143,
      "id": "5f590e9f",
      "metadata": {
        "id": "5f590e9f"
      },
      "outputs": [],
      "source": [
        "prompt_infos = [\n",
        "    {\n",
        "        \"name\": \"physics\",\n",
        "        \"description\": \"Good for answering questions about physics\",\n",
        "        \"prompt_template\": physics_template\n",
        "    },\n",
        "    {\n",
        "        \"name\": \"math\",\n",
        "        \"description\": \"Good for answering math questions\",\n",
        "        \"prompt_template\": math_template\n",
        "    },\n",
        "    {\n",
        "        \"name\": \"History\",\n",
        "        \"description\": \"Good for answering history questions\",\n",
        "        \"prompt_template\": history_template\n",
        "    },\n",
        "    {\n",
        "        \"name\": \"computer science\",\n",
        "        \"description\": \"Good for answering computer science questions\",\n",
        "        \"prompt_template\": computerscience_template\n",
        "    }\n",
        "]"
      ]
    },
    {
      "cell_type": "code",
      "execution_count": 144,
      "id": "31b06fc8",
      "metadata": {
        "id": "31b06fc8"
      },
      "outputs": [],
      "source": [
        "from langchain.chains.router import MultiPromptChain\n",
        "from langchain.chains.router.llm_router import LLMRouterChain,RouterOutputParser\n",
        "from langchain.prompts import PromptTemplate"
      ]
    },
    {
      "cell_type": "code",
      "execution_count": 145,
      "id": "f3f50bcc",
      "metadata": {
        "id": "f3f50bcc"
      },
      "outputs": [],
      "source": [
        "llm = ChatOpenAI(temperature=0.7, api_key = OPENAI_API_KEY)"
      ]
    },
    {
      "cell_type": "code",
      "execution_count": 146,
      "id": "8eefec24",
      "metadata": {
        "id": "8eefec24"
      },
      "outputs": [],
      "source": [
        "destination_chains = {}\n",
        "for p_info in prompt_infos:\n",
        "    name = p_info[\"name\"]\n",
        "    prompt_template = p_info[\"prompt_template\"]\n",
        "    prompt = ChatPromptTemplate.from_template(template=prompt_template)\n",
        "    chain = LLMChain(llm=llm, prompt=prompt)\n",
        "    destination_chains[name] = chain\n",
        "\n",
        "destinations = [f\"{p['name']}: {p['description']}\" for p in prompt_infos]\n",
        "destinations_str = \"\\n\".join(destinations)"
      ]
    },
    {
      "cell_type": "code",
      "execution_count": 147,
      "id": "9f98018a",
      "metadata": {
        "id": "9f98018a"
      },
      "outputs": [],
      "source": [
        "default_prompt = ChatPromptTemplate.from_template(\"{input}\")\n",
        "default_chain = LLMChain(llm=llm, prompt=default_prompt)"
      ]
    },
    {
      "cell_type": "code",
      "execution_count": 148,
      "id": "11b2e2ba",
      "metadata": {
        "id": "11b2e2ba"
      },
      "outputs": [],
      "source": [
        "MULTI_PROMPT_ROUTER_TEMPLATE = \"\"\"Given a raw text input to a \\\n",
        "language model select the model prompt best suited for the input. \\\n",
        "You will be given the names of the available prompts and a \\\n",
        "description of what the prompt is best suited for. \\\n",
        "You may also revise the original input if you think that revising\\\n",
        "it will ultimately lead to a better response from the language model.\n",
        "\n",
        "<< FORMATTING >>\n",
        "Return a markdown code snippet with a JSON object formatted to look like:\n",
        "```json\n",
        "{{{{\n",
        "    \"destination\": string \\ name of the prompt to use or \"DEFAULT\"\n",
        "    \"next_inputs\": string \\ a potentially modified version of the original input\n",
        "}}}}\n",
        "```\n",
        "\n",
        "REMEMBER: \"destination\" MUST be one of the candidate prompt \\\n",
        "names specified below OR it can be \"DEFAULT\" if the input is not\\\n",
        "well suited for any of the candidate prompts.\n",
        "REMEMBER: \"next_inputs\" can just be the original input \\\n",
        "if you don't think any modifications are needed.\n",
        "\n",
        "<< CANDIDATE PROMPTS >>\n",
        "{destinations}\n",
        "\n",
        "<< INPUT >>\n",
        "{{input}}\n",
        "\n",
        "<< OUTPUT (remember to include the ```json)>>\"\"\""
      ]
    },
    {
      "cell_type": "code",
      "execution_count": 155,
      "id": "1387109d",
      "metadata": {
        "id": "1387109d"
      },
      "outputs": [],
      "source": [
        "router_template = MULTI_PROMPT_ROUTER_TEMPLATE.format(\n",
        "    destinations=destinations_str\n",
        ")\n",
        "router_prompt = PromptTemplate(\n",
        "    template=router_template,\n",
        "    input_variables=[\"input\"],\n",
        "    output_parser=RouterOutputParser(),\n",
        ")\n",
        "\n",
        "router_chain = LLMRouterChain.from_llm(llm, router_prompt)"
      ]
    },
    {
      "cell_type": "code",
      "execution_count": 156,
      "id": "2fb7d560",
      "metadata": {
        "id": "2fb7d560"
      },
      "outputs": [],
      "source": [
        "chain = MultiPromptChain(router_chain=router_chain,\n",
        "                         destination_chains=destination_chains,\n",
        "                         default_chain=default_chain, verbose=True\n",
        "                        )"
      ]
    },
    {
      "cell_type": "code",
      "execution_count": 157,
      "id": "d86b2131",
      "metadata": {
        "colab": {
          "base_uri": "https://localhost:8080/",
          "height": 174
        },
        "id": "d86b2131",
        "outputId": "f279ef19-a229-4782-b292-6b9ca2bdfde3"
      },
      "outputs": [
        {
          "output_type": "stream",
          "name": "stdout",
          "text": [
            "\n",
            "\n",
            "\u001b[1m> Entering new MultiPromptChain chain...\u001b[0m\n",
            "physics: {'input': 'What is black body radiation?'}\n",
            "\u001b[1m> Finished chain.\u001b[0m\n"
          ]
        },
        {
          "output_type": "execute_result",
          "data": {
            "text/plain": [
              "\"Black body radiation refers to the electromagnetic radiation emitted by a perfect absorber of all incident radiation, with no reflection. This means that a black body absorbs all incoming radiation and then emits radiation at a specific spectrum of frequencies and intensities based on its temperature. This phenomenon is described by Planck's law, which states that the intensity and wavelength distribution of the radiation emitted by a black body is dependent on its temperature.\""
            ],
            "application/vnd.google.colaboratory.intrinsic+json": {
              "type": "string"
            }
          },
          "metadata": {},
          "execution_count": 157
        }
      ],
      "source": [
        "chain.run(\"What is black body radiation?\")"
      ]
    },
    {
      "cell_type": "code",
      "execution_count": 158,
      "id": "3b717379",
      "metadata": {
        "colab": {
          "base_uri": "https://localhost:8080/",
          "height": 122
        },
        "id": "3b717379",
        "outputId": "a5859832-9894-4cfa-a329-c96d540ef888"
      },
      "outputs": [
        {
          "output_type": "stream",
          "name": "stdout",
          "text": [
            "\n",
            "\n",
            "\u001b[1m> Entering new MultiPromptChain chain...\u001b[0m\n",
            "math: {'input': 'what is 2 + 2'}\n",
            "\u001b[1m> Finished chain.\u001b[0m\n"
          ]
        },
        {
          "output_type": "execute_result",
          "data": {
            "text/plain": [
              "'The answer to 2 + 2 is 4.'"
            ],
            "application/vnd.google.colaboratory.intrinsic+json": {
              "type": "string"
            }
          },
          "metadata": {},
          "execution_count": 158
        }
      ],
      "source": [
        "chain.run(\"what is 2 + 2\")"
      ]
    },
    {
      "cell_type": "code",
      "execution_count": 160,
      "id": "29e5be01",
      "metadata": {
        "colab": {
          "base_uri": "https://localhost:8080/",
          "height": 174
        },
        "id": "29e5be01",
        "outputId": "3dddc6b9-27e2-4bab-fbf9-61b603a324c6"
      },
      "outputs": [
        {
          "output_type": "stream",
          "name": "stdout",
          "text": [
            "\n",
            "\n",
            "\u001b[1m> Entering new MultiPromptChain chain...\u001b[0m\n",
            "physics: {'input': 'Why does gravity exist?'}\n",
            "\u001b[1m> Finished chain.\u001b[0m\n"
          ]
        },
        {
          "output_type": "execute_result",
          "data": {
            "text/plain": [
              "\"Gravity exists because of the curvature of spacetime caused by mass and energy. According to Einstein's theory of general relativity, mass and energy warp spacetime, causing objects to be attracted to each other. This is what we experience as gravity. However, the exact mechanism behind gravity is still not fully understood, and it remains one of the fundamental forces of nature that scientists are continuing to study and explore.\""
            ],
            "application/vnd.google.colaboratory.intrinsic+json": {
              "type": "string"
            }
          },
          "metadata": {},
          "execution_count": 160
        }
      ],
      "source": [
        "chain.run(\"Why does gravity exist?\")"
      ]
    },
    {
      "cell_type": "markdown",
      "id": "09e0c60b-7ae0-453e-9467-142d8dafee6e",
      "metadata": {
        "id": "09e0c60b-7ae0-453e-9467-142d8dafee6e"
      },
      "source": [
        "**Repeat the above at least once for different inputs and chains executions - Be creative!**"
      ]
    },
    {
      "cell_type": "code",
      "source": [
        "chain.run(\"Who is the football GOAT?\")"
      ],
      "metadata": {
        "colab": {
          "base_uri": "https://localhost:8080/",
          "height": 157
        },
        "id": "zBSYBfj_qh-p",
        "outputId": "c57794ec-8aad-4cef-94e9-1b17e47263f4"
      },
      "id": "zBSYBfj_qh-p",
      "execution_count": 162,
      "outputs": [
        {
          "output_type": "stream",
          "name": "stdout",
          "text": [
            "\n",
            "\n",
            "\u001b[1m> Entering new MultiPromptChain chain...\u001b[0m\n",
            "None: {'input': 'Who is the football GOAT?'}\n",
            "\u001b[1m> Finished chain.\u001b[0m\n"
          ]
        },
        {
          "output_type": "execute_result",
          "data": {
            "text/plain": [
              "'The title of GOAT (Greatest of All Time) in football is a highly debated topic and is subjective to personal opinions. Some of the most commonly mentioned players in the conversation include Lionel Messi, Cristiano Ronaldo, Diego Maradona, Pelé, and Johan Cruyff. Ultimately, it is up to individual preferences and criteria for determining the greatest football player of all time.'"
            ],
            "application/vnd.google.colaboratory.intrinsic+json": {
              "type": "string"
            }
          },
          "metadata": {},
          "execution_count": 162
        }
      ]
    },
    {
      "cell_type": "code",
      "source": [
        "chain.run(\"Does god exist??\")"
      ],
      "metadata": {
        "colab": {
          "base_uri": "https://localhost:8080/",
          "height": 157
        },
        "id": "PbgevPbsq-e8",
        "outputId": "53e793b5-f4af-46f0-a72b-d5a9fe9403c6"
      },
      "id": "PbgevPbsq-e8",
      "execution_count": 163,
      "outputs": [
        {
          "output_type": "stream",
          "name": "stdout",
          "text": [
            "\n",
            "\n",
            "\u001b[1m> Entering new MultiPromptChain chain...\u001b[0m\n",
            "None: {'input': 'Does god exist??'}\n",
            "\u001b[1m> Finished chain.\u001b[0m\n"
          ]
        },
        {
          "output_type": "execute_result",
          "data": {
            "text/plain": [
              "'The existence of God is a highly debated and personal belief. Some people believe in the existence of a higher power or deity, while others do not. Ultimately, whether or not God exists is a question that individuals must explore and come to their own conclusions about.'"
            ],
            "application/vnd.google.colaboratory.intrinsic+json": {
              "type": "string"
            }
          },
          "metadata": {},
          "execution_count": 163
        }
      ]
    },
    {
      "cell_type": "code",
      "source": [
        "chain.run(\"What year did Obama won USA election?\")"
      ],
      "metadata": {
        "colab": {
          "base_uri": "https://localhost:8080/",
          "height": 122
        },
        "id": "-lO9BSslrMWe",
        "outputId": "5e942749-50ac-4003-f599-ade7d386f757"
      },
      "id": "-lO9BSslrMWe",
      "execution_count": 164,
      "outputs": [
        {
          "output_type": "stream",
          "name": "stdout",
          "text": [
            "\n",
            "\n",
            "\u001b[1m> Entering new MultiPromptChain chain...\u001b[0m\n",
            "History: {'input': 'What year did Obama win the USA election?'}\n",
            "\u001b[1m> Finished chain.\u001b[0m\n"
          ]
        },
        {
          "output_type": "execute_result",
          "data": {
            "text/plain": [
              "'Barack Obama won the United States presidential election in 2008 and again in 2012.'"
            ],
            "application/vnd.google.colaboratory.intrinsic+json": {
              "type": "string"
            }
          },
          "metadata": {},
          "execution_count": 164
        }
      ]
    }
  ],
  "metadata": {
    "kernelspec": {
      "display_name": "Python 3 (ipykernel)",
      "language": "python",
      "name": "python3"
    },
    "language_info": {
      "codemirror_mode": {
        "name": "ipython",
        "version": 3
      },
      "file_extension": ".py",
      "mimetype": "text/x-python",
      "name": "python",
      "nbconvert_exporter": "python",
      "pygments_lexer": "ipython3",
      "version": "3.11.8"
    },
    "colab": {
      "provenance": []
    }
  },
  "nbformat": 4,
  "nbformat_minor": 5
}